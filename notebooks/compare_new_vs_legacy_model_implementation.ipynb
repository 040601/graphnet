{
 "cells": [
  {
   "cell_type": "code",
   "execution_count": 84,
   "metadata": {},
   "outputs": [],
   "source": [
    "# Import(s)\n",
    "import matplotlib.pyplot as plt\n",
    "import numpy as np\n",
    "import pandas as pd"
   ]
  },
  {
   "cell_type": "code",
   "execution_count": 85,
   "metadata": {},
   "outputs": [],
   "source": [
    "# Common variables\n",
    "rad_to_deg = 180. / np.pi\n",
    "nb_bins = 50\n",
    "var = 'azimuth'\n",
    "vmin, vmax = {\n",
    "    'zenith':  (0,     np.pi * rad_to_deg),\n",
    "    'azimuth': (0, 2 * np.pi * rad_to_deg),\n",
    "}[var]\n",
    "results_dir = \"/groups/icecube/asogaard/gnn/results/von_mises-fisher_test/dev_level7_noise_muon_nu_classification_pass2_fixedRetro_v3/\"\n",
    "path_new = results_dir + f\"dynedge_{var}/results.csv\"\n",
    "path_leg = results_dir + f\"dynedge_{var}_legacy/results.csv\""
   ]
  },
  {
   "cell_type": "code",
   "execution_count": 86,
   "metadata": {},
   "outputs": [],
   "source": [
    "# Utility method(s)\n",
    "def wrap_to_minus_180_to_180(x):\n",
    "    if x > 180:\n",
    "        return x - 360.\n",
    "    elif x < -180:\n",
    "        return x + 360.\n",
    "    else:\n",
    "        return x"
   ]
  },
  {
   "cell_type": "code",
   "execution_count": 87,
   "metadata": {},
   "outputs": [
    {
     "data": {
      "text/html": [
       "<div>\n",
       "<style scoped>\n",
       "    .dataframe tbody tr th:only-of-type {\n",
       "        vertical-align: middle;\n",
       "    }\n",
       "\n",
       "    .dataframe tbody tr th {\n",
       "        vertical-align: top;\n",
       "    }\n",
       "\n",
       "    .dataframe thead th {\n",
       "        text-align: right;\n",
       "    }\n",
       "</style>\n",
       "<table border=\"1\" class=\"dataframe\">\n",
       "  <thead>\n",
       "    <tr style=\"text-align: right;\">\n",
       "      <th></th>\n",
       "      <th>azimuth_pred</th>\n",
       "      <th>azimuth_kappa</th>\n",
       "      <th>event_no</th>\n",
       "      <th>energy</th>\n",
       "      <th>azimuth</th>\n",
       "      <th>truth</th>\n",
       "      <th>pred</th>\n",
       "      <th>sigma</th>\n",
       "      <th>residual</th>\n",
       "      <th>pull</th>\n",
       "    </tr>\n",
       "  </thead>\n",
       "  <tbody>\n",
       "    <tr>\n",
       "      <th>0</th>\n",
       "      <td>2.810002</td>\n",
       "      <td>1.391108</td>\n",
       "      <td>34270388</td>\n",
       "      <td>25.195690</td>\n",
       "      <td>3.618952</td>\n",
       "      <td>207.350693</td>\n",
       "      <td>161.001255</td>\n",
       "      <td>48.578292</td>\n",
       "      <td>-46.349438</td>\n",
       "      <td>-0.954118</td>\n",
       "    </tr>\n",
       "    <tr>\n",
       "      <th>1</th>\n",
       "      <td>0.546938</td>\n",
       "      <td>1.331275</td>\n",
       "      <td>57933506</td>\n",
       "      <td>14.451158</td>\n",
       "      <td>1.895271</td>\n",
       "      <td>108.591047</td>\n",
       "      <td>31.337222</td>\n",
       "      <td>49.657953</td>\n",
       "      <td>-77.253825</td>\n",
       "      <td>-1.555719</td>\n",
       "    </tr>\n",
       "    <tr>\n",
       "      <th>2</th>\n",
       "      <td>5.779996</td>\n",
       "      <td>1.568874</td>\n",
       "      <td>31662171</td>\n",
       "      <td>19.290771</td>\n",
       "      <td>0.250358</td>\n",
       "      <td>14.344476</td>\n",
       "      <td>331.169376</td>\n",
       "      <td>45.743409</td>\n",
       "      <td>-43.175100</td>\n",
       "      <td>-0.943854</td>\n",
       "    </tr>\n",
       "    <tr>\n",
       "      <th>3</th>\n",
       "      <td>3.193939</td>\n",
       "      <td>1.957762</td>\n",
       "      <td>23689459</td>\n",
       "      <td>53.034725</td>\n",
       "      <td>3.957137</td>\n",
       "      <td>226.727243</td>\n",
       "      <td>182.999208</td>\n",
       "      <td>40.948943</td>\n",
       "      <td>-43.728036</td>\n",
       "      <td>-1.067867</td>\n",
       "    </tr>\n",
       "    <tr>\n",
       "      <th>4</th>\n",
       "      <td>0.888027</td>\n",
       "      <td>0.328073</td>\n",
       "      <td>10539253</td>\n",
       "      <td>26.428728</td>\n",
       "      <td>5.975599</td>\n",
       "      <td>342.376620</td>\n",
       "      <td>50.880179</td>\n",
       "      <td>100.031695</td>\n",
       "      <td>68.503559</td>\n",
       "      <td>0.684819</td>\n",
       "    </tr>\n",
       "  </tbody>\n",
       "</table>\n",
       "</div>"
      ],
      "text/plain": [
       "   azimuth_pred  azimuth_kappa  event_no     energy   azimuth       truth  \\\n",
       "0      2.810002       1.391108  34270388  25.195690  3.618952  207.350693   \n",
       "1      0.546938       1.331275  57933506  14.451158  1.895271  108.591047   \n",
       "2      5.779996       1.568874  31662171  19.290771  0.250358   14.344476   \n",
       "3      3.193939       1.957762  23689459  53.034725  3.957137  226.727243   \n",
       "4      0.888027       0.328073  10539253  26.428728  5.975599  342.376620   \n",
       "\n",
       "         pred       sigma   residual      pull  \n",
       "0  161.001255   48.578292 -46.349438 -0.954118  \n",
       "1   31.337222   49.657953 -77.253825 -1.555719  \n",
       "2  331.169376   45.743409 -43.175100 -0.943854  \n",
       "3  182.999208   40.948943 -43.728036 -1.067867  \n",
       "4   50.880179  100.031695  68.503559  0.684819  "
      ]
     },
     "execution_count": 87,
     "metadata": {},
     "output_type": "execute_result"
    }
   ],
   "source": [
    "# Load new results\n",
    "df_new = pd.read_csv(path_new, index_col=0)\n",
    "df_new['truth'] = rad_to_deg * df_new[var]\n",
    "df_new['pred'] = rad_to_deg * df_new[f\"{var}_pred\"]\n",
    "df_new['sigma'] = rad_to_deg * 1./np.sqrt(df_new[f'{var}_kappa'])\n",
    "df_new['residual'] = df_new.pred - df_new.truth\n",
    "if var == 'azimuth':\n",
    "    df_new.loc[df_new.pred < 0, 'pred'] = df_new.loc[df_new.pred < 0, 'pred'] + 360.\n",
    "    df_new['residual'] = df_new.apply(lambda row: wrap_to_minus_180_to_180(row.residual), axis=1)\n",
    "df_new['pull'] = df_new.residual / df_new.sigma\n",
    "df_new.head()"
   ]
  },
  {
   "cell_type": "code",
   "execution_count": 88,
   "metadata": {},
   "outputs": [
    {
     "data": {
      "text/html": [
       "<div>\n",
       "<style scoped>\n",
       "    .dataframe tbody tr th:only-of-type {\n",
       "        vertical-align: middle;\n",
       "    }\n",
       "\n",
       "    .dataframe tbody tr th {\n",
       "        vertical-align: top;\n",
       "    }\n",
       "\n",
       "    .dataframe thead th {\n",
       "        text-align: right;\n",
       "    }\n",
       "</style>\n",
       "<table border=\"1\" class=\"dataframe\">\n",
       "  <thead>\n",
       "    <tr style=\"text-align: right;\">\n",
       "      <th></th>\n",
       "      <th>azimuth_pred</th>\n",
       "      <th>azimuth_var</th>\n",
       "      <th>event_no</th>\n",
       "      <th>azimuth</th>\n",
       "      <th>truth</th>\n",
       "      <th>pred</th>\n",
       "      <th>sigma</th>\n",
       "      <th>residual</th>\n",
       "      <th>pull</th>\n",
       "    </tr>\n",
       "  </thead>\n",
       "  <tbody>\n",
       "    <tr>\n",
       "      <th>0</th>\n",
       "      <td>1.447901</td>\n",
       "      <td>0.159023</td>\n",
       "      <td>5301736</td>\n",
       "      <td>1.397253</td>\n",
       "      <td>80.056688</td>\n",
       "      <td>82.958605</td>\n",
       "      <td>22.848224</td>\n",
       "      <td>2.901917</td>\n",
       "      <td>0.127008</td>\n",
       "    </tr>\n",
       "    <tr>\n",
       "      <th>1</th>\n",
       "      <td>-1.363042</td>\n",
       "      <td>0.099306</td>\n",
       "      <td>42217846</td>\n",
       "      <td>5.747718</td>\n",
       "      <td>329.320000</td>\n",
       "      <td>281.903417</td>\n",
       "      <td>18.055495</td>\n",
       "      <td>-47.416583</td>\n",
       "      <td>-2.626158</td>\n",
       "    </tr>\n",
       "    <tr>\n",
       "      <th>2</th>\n",
       "      <td>1.511628</td>\n",
       "      <td>0.297803</td>\n",
       "      <td>112062</td>\n",
       "      <td>0.255649</td>\n",
       "      <td>14.647609</td>\n",
       "      <td>86.609905</td>\n",
       "      <td>31.267075</td>\n",
       "      <td>71.962296</td>\n",
       "      <td>2.301536</td>\n",
       "    </tr>\n",
       "    <tr>\n",
       "      <th>3</th>\n",
       "      <td>-2.446742</td>\n",
       "      <td>0.054431</td>\n",
       "      <td>84211420</td>\n",
       "      <td>3.752505</td>\n",
       "      <td>215.002676</td>\n",
       "      <td>219.812033</td>\n",
       "      <td>13.367306</td>\n",
       "      <td>4.809357</td>\n",
       "      <td>0.359785</td>\n",
       "    </tr>\n",
       "    <tr>\n",
       "      <th>4</th>\n",
       "      <td>0.034387</td>\n",
       "      <td>0.243713</td>\n",
       "      <td>44923687</td>\n",
       "      <td>5.853769</td>\n",
       "      <td>335.396275</td>\n",
       "      <td>1.970210</td>\n",
       "      <td>28.285361</td>\n",
       "      <td>26.573935</td>\n",
       "      <td>0.939494</td>\n",
       "    </tr>\n",
       "  </tbody>\n",
       "</table>\n",
       "</div>"
      ],
      "text/plain": [
       "   azimuth_pred  azimuth_var  event_no   azimuth       truth        pred  \\\n",
       "0      1.447901     0.159023   5301736  1.397253   80.056688   82.958605   \n",
       "1     -1.363042     0.099306  42217846  5.747718  329.320000  281.903417   \n",
       "2      1.511628     0.297803    112062  0.255649   14.647609   86.609905   \n",
       "3     -2.446742     0.054431  84211420  3.752505  215.002676  219.812033   \n",
       "4      0.034387     0.243713  44923687  5.853769  335.396275    1.970210   \n",
       "\n",
       "       sigma   residual      pull  \n",
       "0  22.848224   2.901917  0.127008  \n",
       "1  18.055495 -47.416583 -2.626158  \n",
       "2  31.267075  71.962296  2.301536  \n",
       "3  13.367306   4.809357  0.359785  \n",
       "4  28.285361  26.573935  0.939494  "
      ]
     },
     "execution_count": 88,
     "metadata": {},
     "output_type": "execute_result"
    }
   ],
   "source": [
    "# Load legacy results\n",
    "df_leg = pd.read_csv(path_leg, index_col=0)\n",
    "df_leg['truth'] = rad_to_deg * df_leg[var]\n",
    "df_leg['pred'] = rad_to_deg * df_leg[f\"{var}_pred\"]\n",
    "df_leg['sigma'] = rad_to_deg * np.sqrt(df_leg[f'{var}_var'])\n",
    "df_leg['residual'] = df_leg.pred - df_leg.truth\n",
    "if var == 'azimuth':\n",
    "    df_leg.loc[df_leg.pred < 0, 'pred'] = df_leg.loc[df_leg.pred < 0, 'pred'] + 360.\n",
    "    df_leg['residual'] = df_leg.residual.apply(wrap_to_minus_180_to_180)\n",
    "df_leg['pull'] = df_leg.residual / df_leg.sigma\n",
    "df_leg.head()"
   ]
  },
  {
   "cell_type": "code",
   "execution_count": 89,
   "metadata": {},
   "outputs": [
    {
     "data": {
      "text/plain": [
       "<matplotlib.legend.Legend at 0x7eff47300250>"
      ]
     },
     "execution_count": 89,
     "metadata": {},
     "output_type": "execute_result"
    },
    {
     "data": {
      "image/png": "[encoded data removed]",
      "text/plain": [
       "<Figure size 432x288 with 1 Axes>"
      ]
     },
     "metadata": {
      "needs_background": "light"
     },
     "output_type": "display_data"
    }
   ],
   "source": [
    "# Distribution\n",
    "bins = np.linspace(vmin, vmax, nb_bins + 1)\n",
    "plt.hist(df_leg.truth, bins=bins, density=1, alpha=0.3, color='gray', label=f'Truth')\n",
    "plt.hist(df_leg.pred,  bins=bins, density=1, histtype='step', lw=2, label='Pred., legacy')\n",
    "plt.hist(df_new.pred,  bins=bins, density=1, histtype='step', lw=2, label='Pred., new')\n",
    "plt.xlabel(f\"{var} [deg.]\")\n",
    "plt.legend()"
   ]
  },
  {
   "cell_type": "code",
   "execution_count": 91,
   "metadata": {},
   "outputs": [
    {
     "data": {
      "text/plain": [
       "<matplotlib.legend.Legend at 0x7eff47128fd0>"
      ]
     },
     "execution_count": 91,
     "metadata": {},
     "output_type": "execute_result"
    },
    {
     "data": {
      "image/png": "[encoded data removed]",
      "text/plain": [
       "<Figure size 432x288 with 1 Axes>"
      ]
     },
     "metadata": {
      "needs_background": "light"
     },
     "output_type": "display_data"
    }
   ],
   "source": [
    "# Distribution (sliced in sigma)\n",
    "percentile = 50.\n",
    "threshold_sigma_leg = np.percentile(df_leg.sigma, percentile)\n",
    "threshold_sigma_new = np.percentile(df_new.sigma, percentile)\n",
    "\n",
    "df_leg_precise = df_leg.query(f\"sigma < {threshold_sigma_leg}\")\n",
    "df_new_precise = df_new.query(f\"sigma < {threshold_sigma_new}\")\n",
    "\n",
    "bins = np.linspace(vmin, vmax, nb_bins + 1)\n",
    "plt.hist(df_leg.truth,        bins=bins, density=1, alpha=0.3, color='gray', label=f'Truth')\n",
    "plt.hist(df_leg_precise.pred, bins=bins, density=1, histtype='step', lw=2, label='Pred., legacy')\n",
    "plt.hist(df_new_precise.pred, bins=bins, density=1, histtype='step', lw=2, label='Pred., new')\n",
    "plt.xlabel(f\"{var} [deg.]\")\n",
    "plt.legend()"
   ]
  },
  {
   "cell_type": "code",
   "execution_count": 92,
   "metadata": {},
   "outputs": [
    {
     "data": {
      "text/plain": [
       "<matplotlib.legend.Legend at 0x7eff470d2940>"
      ]
     },
     "execution_count": 92,
     "metadata": {},
     "output_type": "execute_result"
    },
    {
     "data": {
      "image/png": "[encoded data removed]",
      "text/plain": [
       "<Figure size 432x288 with 1 Axes>"
      ]
     },
     "metadata": {
      "needs_background": "light"
     },
     "output_type": "display_data"
    }
   ],
   "source": [
    "# Residual plot\n",
    "xmin, xmax = -180, 180\n",
    "bins = np.linspace(xmin, xmax, nb_bins + 1)\n",
    "plt.hist(np.clip(df_leg.residual, xmin, xmax), bins=bins, histtype='step', lw=2, label=f'Legacy (std. = {df_leg.residual.std():.1f})')\n",
    "plt.hist(np.clip(df_new.residual, xmin, xmax), bins=bins, histtype='step', lw=2, label=f'New (std. = {df_new.residual.std():.1f})')\n",
    "plt.xlabel(f\"Residual, {var} [deg.]\")\n",
    "plt.legend()"
   ]
  },
  {
   "cell_type": "code",
   "execution_count": 93,
   "metadata": {},
   "outputs": [
    {
     "data": {
      "text/plain": [
       "<matplotlib.legend.Legend at 0x7eff47036af0>"
      ]
     },
     "execution_count": 93,
     "metadata": {},
     "output_type": "execute_result"
    },
    {
     "data": {
      "image/png": "[encoded data removed]",
      "text/plain": [
       "<Figure size 432x288 with 1 Axes>"
      ]
     },
     "metadata": {
      "needs_background": "light"
     },
     "output_type": "display_data"
    }
   ],
   "source": [
    "# Pull plot\n",
    "bins = np.linspace(-10, 10, 50 + 1)\n",
    "plt.hist(df_leg.pull, bins=bins, histtype='step', lw=2, label=f'Legacy (std. = {df_leg.pull.std():.1f})')\n",
    "plt.hist(df_new.pull, bins=bins, histtype='step', lw=2, label=f'New (std. = {df_new.pull.std():.1f})')\n",
    "plt.xlabel(f\"Pull, {var}\")\n",
    "plt.legend()"
   ]
  }
 ],
 "metadata": {
  "interpreter": {
   "hash": "8fb322b307301711a693816effa672bbcb349d6cb1f5c0259c371a01fded53d2"
  },
  "kernelspec": {
   "display_name": "Python 3.8.12 64-bit ('gnn_py38': conda)",
   "name": "python3"
  },
  "language_info": {
   "codemirror_mode": {
    "name": "ipython",
    "version": 3
   },
   "file_extension": ".py",
   "mimetype": "text/x-python",
   "name": "python",
   "nbconvert_exporter": "python",
   "pygments_lexer": "ipython3",
   "version": "3.8.12"
  },
  "orig_nbformat": 4
 },
 "nbformat": 4,
 "nbformat_minor": 2
}
